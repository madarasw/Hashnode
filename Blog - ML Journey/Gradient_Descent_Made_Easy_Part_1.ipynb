{
  "nbformat": 4,
  "nbformat_minor": 0,
  "metadata": {
    "colab": {
      "provenance": [],
      "authorship_tag": "ABX9TyPdnYq5th5JTfqU8waP2W0+",
      "include_colab_link": true
    },
    "kernelspec": {
      "name": "python3",
      "display_name": "Python 3"
    },
    "language_info": {
      "name": "python"
    }
  },
  "cells": [
    {
      "cell_type": "markdown",
      "metadata": {
        "id": "view-in-github",
        "colab_type": "text"
      },
      "source": [
        "<a href=\"https://colab.research.google.com/github/madarasw/Hashnode/blob/main/Blog%20-%20ML%20Journey/Gradient_Descent_Made_Easy_Part_1.ipynb\" target=\"_parent\"><img src=\"https://colab.research.google.com/assets/colab-badge.svg\" alt=\"Open In Colab\"/></a>"
      ]
    },
    {
      "cell_type": "markdown",
      "source": [
        "## Understanding Gradient Descent Through Simple Linear Regression\n",
        "\n",
        "In this code, gradient descent is used to find the optimal parameters of a simple linear regression model.\n",
        "The main goal is to understand the core concept of gradient descent, so all other aspects have been intentionally kept as simple as possible."
      ],
      "metadata": {
        "id": "-ks-I0CRAf_T"
      }
    },
    {
      "cell_type": "code",
      "source": [
        "import math\n",
        "import numpy as np\n",
        "import matplotlib.pyplot as plt"
      ],
      "metadata": {
        "id": "KapXRi_J_nZP"
      },
      "execution_count": 2,
      "outputs": []
    },
    {
      "cell_type": "code",
      "execution_count": 3,
      "metadata": {
        "id": "Qc93mTsC-_ww"
      },
      "outputs": [],
      "source": [
        "# Create a simple dataset\n",
        "X_train = np.array([5, 6, 2, 3, 4])\n",
        "y_train = np.array([10, 14, 5, 6, 9])\n",
        "\n",
        "'''\n",
        "---------\n",
        "| X | Y |\n",
        "---------\n",
        "| 5 | 10|\n",
        "| 6 | 14|\n",
        "| 2 | 5 |\n",
        "| 3 | 6 |\n",
        "| 4 | 9 |\n",
        "---------\n",
        "'''"
      ]
    },
    {
      "cell_type": "code",
      "source": [
        "b_init = 0\n",
        "w_init = 0"
      ],
      "metadata": {
        "id": "A2p4kv_O_HHi"
      },
      "execution_count": 4,
      "outputs": []
    },
    {
      "cell_type": "code",
      "source": [
        "def compute_cost(X, y, w, b):\n",
        "    m = X.shape[0]\n",
        "    cost = 0.0\n",
        "    for i in range(m):\n",
        "        f_wb_i = X[i]*w + b\n",
        "        loss = f_wb_i - y[i]\n",
        "        cost = cost + loss**2\n",
        "    cost = cost / (2 * m)\n",
        "    return cost\n",
        "\n",
        "# Compute and display cost using our pre-chosen optimal parameters.\n",
        "cost = compute_cost(X_train, y_train, w_init, b_init)\n",
        "print(f'Cost : {cost}')"
      ],
      "metadata": {
        "colab": {
          "base_uri": "https://localhost:8080/"
        },
        "id": "KM4E8TKq_Hyd",
        "outputId": "6e819ddb-4873-4853-cf0a-d9c947b3a6a2"
      },
      "execution_count": 5,
      "outputs": [
        {
          "output_type": "stream",
          "name": "stdout",
          "text": [
            "Cost : 43.8\n"
          ]
        }
      ]
    },
    {
      "cell_type": "code",
      "source": [
        "def compute_gradient(X, y, w, b):\n",
        "    m = X.shape[0]\n",
        "    dj_dw = 0.\n",
        "    dj_db = 0.\n",
        "\n",
        "    for i in range(m):\n",
        "        err = X[i]*w + b - y[i]\n",
        "        dj_dw = dj_dw + err * X[i]\n",
        "        dj_db = dj_db + err\n",
        "    dj_dw = dj_dw / m\n",
        "    dj_db = dj_db / m\n",
        "\n",
        "    return dj_db, dj_dw\n",
        "\n",
        "#Compute and display gradient\n",
        "tmp_dj_db, tmp_dj_dw = compute_gradient(X_train, y_train, w_init, b_init)\n",
        "print(f'dj_db at initial w,b: {tmp_dj_db}')\n",
        "print(f'dj_dw at initial w,b: {tmp_dj_dw}')"
      ],
      "metadata": {
        "colab": {
          "base_uri": "https://localhost:8080/"
        },
        "id": "Pz__9CvY_MxC",
        "outputId": "e3c0e8b6-d6ce-4196-add9-aa1514908e56"
      },
      "execution_count": 6,
      "outputs": [
        {
          "output_type": "stream",
          "name": "stdout",
          "text": [
            "dj_db at initial w,b: -8.8\n",
            "dj_dw at initial w,b: -39.6\n"
          ]
        }
      ]
    },
    {
      "cell_type": "code",
      "source": [
        "def gradient_descent(X, y, w_in, b_in, cost_function, gradient_function, alpha, num_iters):\n",
        "    # An array to store cost J and w's at each iteration primarily for graphing later\n",
        "    J_history = []\n",
        "    w = w_in\n",
        "    b = b_in\n",
        "\n",
        "    for i in range(num_iters):\n",
        "\n",
        "\n",
        "        J_history.append( cost_function(X, y, w, b))\n",
        "        print(f\"Iteration {i:4d}: Cost {J_history[-1]:8.4f}   \")\n",
        "\n",
        "        # Calculate the gradient and update the parameters\n",
        "        dj_db,dj_dw = gradient_function(X, y, w, b)\n",
        "\n",
        "        # Update Parameters using w, b, alpha and gradient\n",
        "        w = w - alpha * dj_dw\n",
        "        b = b - alpha * dj_db\n",
        "\n",
        "    return w, b, J_history #return final w,b and J history for graphing"
      ],
      "metadata": {
        "id": "dzJHgqIT_VZO"
      },
      "execution_count": 7,
      "outputs": []
    },
    {
      "cell_type": "code",
      "source": [
        "# initialize parameters\n",
        "initial_w = 0.\n",
        "initial_b = 0.\n",
        "# some gradient descent settings\n",
        "iterations = 20\n",
        "alpha = 0.01\n",
        "# run gradient descent\n",
        "w_final, b_final, J_hist = gradient_descent(X_train, y_train, initial_w, initial_b,\n",
        "                                                    compute_cost, compute_gradient,\n",
        "                                                    alpha, iterations)\n",
        "\n",
        "print(f\"b,w found by gradient descent: {b_final:0.2f},{w_final} \")"
      ],
      "metadata": {
        "colab": {
          "base_uri": "https://localhost:8080/"
        },
        "id": "4aBmlPf8_WJI",
        "outputId": "45f02be5-fa6f-4bf1-c595-66abe07d6a12"
      },
      "execution_count": 8,
      "outputs": [
        {
          "output_type": "stream",
          "name": "stdout",
          "text": [
            "Iteration    0: Cost  43.8000   \n",
            "Iteration    1: Cost  28.8986   \n",
            "Iteration    2: Cost  19.0962   \n",
            "Iteration    3: Cost  12.6481   \n",
            "Iteration    4: Cost   8.4063   \n",
            "Iteration    5: Cost   5.6161   \n",
            "Iteration    6: Cost   3.7806   \n",
            "Iteration    7: Cost   2.5731   \n",
            "Iteration    8: Cost   1.7789   \n",
            "Iteration    9: Cost   1.2564   \n",
            "Iteration   10: Cost   0.9126   \n",
            "Iteration   11: Cost   0.6865   \n",
            "Iteration   12: Cost   0.5378   \n",
            "Iteration   13: Cost   0.4399   \n",
            "Iteration   14: Cost   0.3756   \n",
            "Iteration   15: Cost   0.3332   \n",
            "Iteration   16: Cost   0.3053   \n",
            "Iteration   17: Cost   0.2870   \n",
            "Iteration   18: Cost   0.2749   \n",
            "Iteration   19: Cost   0.2669   \n",
            "b,w found by gradient descent: 0.45,2.0657049918621646 \n"
          ]
        }
      ]
    },
    {
      "cell_type": "code",
      "source": [
        "m = X_train.shape[0]\n",
        "y_pred = [x*w_final + b_final for x in X_train]\n",
        "\n",
        "for i in range(m):\n",
        "    print(f\"prediction: {y_pred[i]:0.2f}, target value: {y_train[i]}\")"
      ],
      "metadata": {
        "colab": {
          "base_uri": "https://localhost:8080/"
        },
        "id": "3mxHZsNQ_ZOC",
        "outputId": "e4b44deb-904b-426b-c384-b8bed3c77a0e"
      },
      "execution_count": 9,
      "outputs": [
        {
          "output_type": "stream",
          "name": "stdout",
          "text": [
            "prediction: 10.78, target value: 10\n",
            "prediction: 12.85, target value: 14\n",
            "prediction: 4.58, target value: 5\n",
            "prediction: 6.65, target value: 6\n",
            "prediction: 8.71, target value: 9\n"
          ]
        }
      ]
    },
    {
      "cell_type": "code",
      "source": [
        "X_flat = X_train.flatten() if len(X_train.shape) > 1 else X_train\n",
        "\n",
        "# Model line (smooth curve)\n",
        "X_line = np.linspace(min(X_flat), max(X_flat), 100)\n",
        "y_line = w_final * X_line + b_final  # model output line\n",
        "\n",
        "plt.figure(figsize=(10, 6))\n",
        "\n",
        "# Original data\n",
        "plt.scatter(X_flat, y_train, color='blue', label='Original Values')\n",
        "\n",
        "# Predicted values (on training data)\n",
        "plt.scatter(X_flat, y_pred, color='red', marker='x', label='Predicted Values')\n",
        "\n",
        "# Final model line\n",
        "plt.plot(X_line, y_line, color='green', label='Model Line', linewidth=2)\n",
        "\n",
        "plt.title('Original vs Predicted vs Model Line')\n",
        "plt.xlabel('X_train')\n",
        "plt.ylabel('Output')\n",
        "plt.legend()\n",
        "plt.grid(True)\n",
        "plt.show()"
      ],
      "metadata": {
        "colab": {
          "base_uri": "https://localhost:8080/",
          "height": 564
        },
        "id": "6YF1ruxm_eUl",
        "outputId": "fe68765c-1a85-4ce2-dc61-be7e3ee83bd9"
      },
      "execution_count": 10,
      "outputs": [
        {
          "output_type": "display_data",
          "data": {
            "text/plain": [
              "<Figure size 1000x600 with 1 Axes>"
            ],
            "image/png": "[encoded data removed]"
          },
          "metadata": {}
        }
      ]
    },
    {
      "cell_type": "code",
      "source": [],
      "metadata": {
        "id": "mrigifGr_uLx"
      },
      "execution_count": null,
      "outputs": []
    }
  ]
}